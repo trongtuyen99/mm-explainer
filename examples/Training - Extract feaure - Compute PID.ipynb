{
 "cells": [
  {
   "cell_type": "markdown",
   "source": [
    "# Training with new dataset using MULT, Extract feature for each modality and then compute PID for each pair"
   ],
   "metadata": {
    "collapsed": false
   }
  },
  {
   "cell_type": "markdown",
   "source": [
    "## Training & extract feature\n",
    "\n",
    "- data_path: data in Multi bench format\n",
    "- save_path: output of training and feature extraction"
   ],
   "metadata": {
    "collapsed": false
   }
  },
  {
   "cell_type": "code",
   "execution_count": null,
   "outputs": [],
   "source": [
    "!python3 examples/affect/train_affect_mult.py --data_path /content/mosi_data.pkl --save_path /content/ --train_modal 0 1 --num_epochs 20 --extract_features"
   ],
   "metadata": {
    "collapsed": false
   }
  },
  {
   "cell_type": "code",
   "execution_count": null,
   "outputs": [],
   "source": [],
   "metadata": {
    "collapsed": false
   }
  },
  {
   "cell_type": "markdown",
   "source": [
    "## Compute PID"
   ],
   "metadata": {
    "collapsed": false
   }
  },
  {
   "cell_type": "code",
   "execution_count": null,
   "outputs": [],
   "source": [
    "from utils.compute_pid import compute_pid\n",
    "dataset_name = 'mosi'\n",
    "measure = compute_pid('/content/vision_audio', dataset_name=dataset_name)\n",
    "measure"
   ],
   "metadata": {
    "collapsed": false
   }
  }
 ],
 "metadata": {
  "kernelspec": {
   "display_name": "Python 3",
   "language": "python",
   "name": "python3"
  },
  "language_info": {
   "codemirror_mode": {
    "name": "ipython",
    "version": 2
   },
   "file_extension": ".py",
   "mimetype": "text/x-python",
   "name": "python",
   "nbconvert_exporter": "python",
   "pygments_lexer": "ipython2",
   "version": "2.7.6"
  }
 },
 "nbformat": 4,
 "nbformat_minor": 0
}
